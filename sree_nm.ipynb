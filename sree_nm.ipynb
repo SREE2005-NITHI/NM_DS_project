{
  "cells": [
    {
      "cell_type": "code",
      "source": [
        "⁷# === FULL EMOTION DATA ANALYSIS & CLASSIFICATION PIPELINE ===\n",
        "\n",
        "# Import necessary libraries\n",
        "import pandas as pd\n",
        "import numpy as np\n",
        "import matplotlib.pyplot as plt\n",
        "import seaborn as sns\n",
        "import re\n",
        "import string\n",
        "\n",
        "from sklearn.model_selection import train_test_split\n",
        "from sklearn.feature_extraction.text import TfidfVectorizer\n",
        "from sklearn.linear_model import LogisticRegression\n",
        "from sklearn.metrics import classification_report, confusion_matrix, accuracy_score\n",
        "from sklearn.pipeline import Pipeline\n",
        "from sklearn.preprocessing import LabelEncoder\n",
        "import joblib\n",
        "\n",
        "# === Step 1: Load the dataset ===\n",
        "df = pd.read_csv(\"/content/sentimentdataset.csv\")\n",
        "print(\"\\nFirst 5 rows of the dataset:\")\n",
        "print(df.head())\n",
        "\n",
        "# === Check column names to confirm ===\n",
        "print(\"\\nColumn names:\", df.columns.tolist())"
      ],
      "metadata": {
        "colab": {
          "base_uri": "https://localhost:8080/"
        },
        "id": "KZJx8W8IKCuE",
        "outputId": "0cc05437-f12f-4112-b87d-ea4ab1bf47ed"
      },
      "execution_count": null,
      "outputs": [
        {
          "output_type": "stream",
          "name": "stdout",
          "text": [
            "\n",
            "First 5 rows of the dataset:\n",
            "   Unnamed: 0.1  Unnamed: 0  \\\n",
            "0             0           0   \n",
            "1             1           1   \n",
            "2             2           2   \n",
            "3             3           3   \n",
            "4             4           4   \n",
            "\n",
            "                                                Text    Sentiment  \\\n",
            "0   Enjoying a beautiful day at the park!        ...   Positive     \n",
            "1   Traffic was terrible this morning.           ...   Negative     \n",
            "2   Just finished an amazing workout! 💪          ...   Positive     \n",
            "3   Excited about the upcoming weekend getaway!  ...   Positive     \n",
            "4   Trying out a new recipe for dinner tonight.  ...   Neutral      \n",
            "\n",
            "          Timestamp            User     Platform  \\\n",
            "0  15-01-2023 12:30   User123          Twitter     \n",
            "1  15-01-2023 08:45   CommuterX        Twitter     \n",
            "2  15-01-2023 15:45   FitnessFan      Instagram    \n",
            "3  15-01-2023 18:20   AdventureX       Facebook    \n",
            "4  15-01-2023 19:55   ChefCook        Instagram    \n",
            "\n",
            "                                     Hashtags  Retweets  Likes       Country  \\\n",
            "0   #Nature #Park                                    15     30     USA         \n",
            "1   #Traffic #Morning                                 5     10     Canada      \n",
            "2   #Fitness #Workout                                20     40   USA           \n",
            "3   #Travel #Adventure                                8     15     UK          \n",
            "4   #Cooking #Food                                   12     25    Australia    \n",
            "\n",
            "   Year  Month  Day  Hour  \n",
            "0  2023      1   15    12  \n",
            "1  2023      1   15     8  \n",
            "2  2023      1   15    15  \n",
            "3  2023      1   15    18  \n",
            "4  2023      1   15    19  \n",
            "\n",
            "Column names: ['Unnamed: 0.1', 'Unnamed: 0', 'Text', 'Sentiment', 'Timestamp', 'User', 'Platform', 'Hashtags', 'Retweets', 'Likes', 'Country', 'Year', 'Month', 'Day', 'Hour']\n"
          ]
        }
      ]
    },
    {
      "cell_type": "code",
      "source": [
        "# === Step 2: Explore the dataset ===\n",
        "print(\"\\nDataset info:\")\n",
        "print(df.info())\n",
        "\n",
        "print(\"\\nDataset shape:\", df.shape)\n",
        "\n",
        "print(\"\\nChecking for missing values:\")\n",
        "print(df.isnull().sum())\n"
      ],
      "metadata": {
        "colab": {
          "base_uri": "https://localhost:8080/"
        },
        "id": "SV0RFI0dNURn",
        "outputId": "9642ad95-0ee7-47c5-d696-40729bf0a570"
      },
      "execution_count": null,
      "outputs": [
        {
          "output_type": "stream",
          "name": "stdout",
          "text": [
            "\n",
            "Dataset info:\n",
            "<class 'pandas.core.frame.DataFrame'>\n",
            "RangeIndex: 14 entries, 0 to 13\n",
            "Data columns (total 1 columns):\n",
            " #   Column     Non-Null Count  Dtype  \n",
            "---  ------     --------------  -----  \n",
            " 0   Sentiment  14 non-null     float64\n",
            "dtypes: float64(1)\n",
            "memory usage: 244.0 bytes\n",
            "None\n",
            "\n",
            "Dataset shape: (14, 1)\n",
            "\n",
            "Checking for missing values:\n",
            "Sentiment    0\n",
            "dtype: int64\n"
          ]
        }
      ]
    },
    {
      "cell_type": "code",
      "source": [
        "# === Step 3: Basic EDA ===\n",
        "plt.figure(figsize=(10,6))\n",
        "sns.countplot(x='Sentiment', data=df)   # <-- REPLACED 'Emotion' with 'Sentiment'\n",
        "plt.title('Distribution of Sentiments')\n",
        "plt.xticks(rotation=45)\n",
        "plt.show()\n",
        "\n",
        "print(\"\\nClass distribution:\")\n",
        "print(df['Sentiment'].value_counts())   # <-- REPLACED 'Emotion' with 'Sentiment'"
      ],
      "metadata": {
        "colab": {
          "base_uri": "https://localhost:8080/",
          "height": 888
        },
        "id": "AM1WJMDENdtk",
        "outputId": "eb0563c8-e32e-4fdf-e7a5-cdc237bcdec7"
      },
      "execution_count": null,
      "outputs": [
        {
          "output_type": "display_data",
          "data": {
            "text/plain": [
              "<Figure size 1000x600 with 1 Axes>"
            ],
            "image/png": "[encoded data removed]"
          },
          "metadata": {}
        },
        {
          "output_type": "stream",
          "name": "stdout",
          "text": [
            "\n",
            "Class distribution:\n",
            "Sentiment\n",
            " 0.2    2\n",
            "-0.8    1\n",
            "-0.3    1\n",
            " 0.4    1\n",
            " 0.7    1\n",
            " 1.0    1\n",
            "-0.9    1\n",
            " 0.3    1\n",
            "-0.1    1\n",
            " 0.6    1\n",
            "-0.6    1\n",
            " 1.2    1\n",
            " 0.5    1\n",
            "Name: count, dtype: int64\n"
          ]
        }
      ]
    },
    {
      "cell_type": "code",
      "source": [
        "# === Step 5: Encode labels ===\n",
        "le = LabelEncoder()\n",
        "df['Encoded_Sentiment'] = le.fit_transform(df['Sentiment'])  # <-- REPLACED 'Emotion' with 'Sentiment'\n",
        "print(\"\\nEncoded sentiments:\")\n",
        "print(dict(zip(le.classes_, le.transform(le.classes_))))\n"
      ],
      "metadata": {
        "colab": {
          "base_uri": "https://localhost:8080/"
        },
        "id": "3EdpR6AkOOAH",
        "outputId": "231d84dd-7043-4fe7-a39a-ee09131f5cee"
      },
      "execution_count": null,
      "outputs": [
        {
          "output_type": "stream",
          "name": "stdout",
          "text": [
            "\n",
            "Encoded sentiments:\n",
            "{np.float64(-0.9): np.int64(0), np.float64(-0.8): np.int64(1), np.float64(-0.6): np.int64(2), np.float64(-0.3): np.int64(3), np.float64(-0.1): np.int64(4), np.float64(0.2): np.int64(5), np.float64(0.3): np.int64(6), np.float64(0.4): np.int64(7), np.float64(0.5): np.int64(8), np.float64(0.6): np.int64(9), np.float64(0.7): np.int64(10), np.float64(1.0): np.int64(11), np.float64(1.2): np.int64(12)}\n"
          ]
        }
      ]
    },
    {
      "cell_type": "code",
      "source": [
        "# === Step 6: Build the model pipeline ===\n",
        "from sklearn.pipeline import Pipeline\n",
        "from sklearn.feature_extraction.text import TfidfVectorizer\n",
        "from sklearn.linear_model import LogisticRegression\n",
        "\n",
        "model_pipeline = Pipeline([\n",
        "    ('tfidf', TfidfVectorizer(max_features=5000, ngram_range=(1,2))),\n",
        "    ('clf', LogisticRegression(max_iter=1000, solver='lbfgs'))\n",
        "])\n",
        "\n",
        "print(\"\\nTraining the model...\")\n"
      ],
      "metadata": {
        "colab": {
          "base_uri": "https://localhost:8080/"
        },
        "id": "TIqk47vXPyBS",
        "outputId": "54f420af-1ad7-488f-9619-496250147d98"
      },
      "execution_count": null,
      "outputs": [
        {
          "output_type": "stream",
          "name": "stdout",
          "text": [
            "\n",
            "Training the model...\n"
          ]
        }
      ]
    },
    {
      "cell_type": "code",
      "source": [
        "import pandas as pd\n",
        "import matplotlib.pyplot as plt\n",
        "import seaborn as sns\n",
        "from sklearn.preprocessing import LabelEncoder\n",
        "import re\n",
        "\n",
        "# Load CSV\n",
        "df = pd.read_csv(\"/content/sentimentdataset.csv\")\n",
        "\n",
        "# Check columns\n",
        "print(\"Available columns:\", df.columns)\n",
        "\n",
        "# Clean text\n",
        "if 'Cleaned_Text' not in df.columns:\n",
        "    def clean_text(text):\n",
        "        text = str(text).lower()\n",
        "        text = re.sub(r'\\\\[.*?\\\\]', '', text)\n",
        "        text = re.sub(r'https?://\\\\S+|www\\\\.\\\\S+', '', text)\n",
        "        text = re.sub(r'<.*?>+', '', text)\n",
        "        text = re.sub(r'[^a-zA-Z\\\\s]', '', text)\n",
        "        return text\n",
        "    df['Cleaned_Text'] = df['Text'].apply(clean_text)\n",
        "\n",
        "# Feature Engineering\n",
        "df['Text_Length'] = df['Cleaned_Text'].apply(len)\n",
        "df['Word_Count'] = df['Cleaned_Text'].apply(lambda x: len(x.split()))\n",
        "\n",
        "# Encode label (replace 'Sentiment' with your actual label column name!!)\n",
        "le = LabelEncoder()\n",
        "df['Encoded_Emotion'] = le.fit_transform(df['Sentiment'])   # CHANGE THIS IF COLUMN IS DIFFERENT\n",
        "\n",
        "# Compute correlation matrix\n",
        "numeric_cols = ['Text_Length', 'Word_Count', 'Encoded_Emotion']\n",
        "corr_matrix = df[numeric_cols].corr()\n",
        "print(\"\\nCorrelation Matrix:\")\n",
        "print(corr_matrix)\n",
        "\n",
        "# Plot heatmap\n",
        "plt.figure(figsize=(8,6))\n",
        "sns.heatmap(corr_matrix, annot=True, cmap='coolwarm', fmt='.2f')\n",
        "plt.title('Correlation Matrix Heatmap')\n",
        "plt.show()\n"
      ],
      "metadata": {
        "colab": {
          "base_uri": "https://localhost:8080/",
          "height": 727
        },
        "id": "IiSsqenOJN-p",
        "outputId": "defa08f5-faa5-4648-9980-27407ecf2726"
      },
      "execution_count": null,
      "outputs": [
        {
          "output_type": "stream",
          "name": "stdout",
          "text": [
            "Available columns: Index(['Unnamed: 0.1', 'Unnamed: 0', 'Text', 'Sentiment', 'Timestamp', 'User',\n",
            "       'Platform', 'Hashtags', 'Retweets', 'Likes', 'Country', 'Year', 'Month',\n",
            "       'Day', 'Hour'],\n",
            "      dtype='object')\n",
            "\n",
            "Correlation Matrix:\n",
            "                 Text_Length  Word_Count  Encoded_Emotion\n",
            "Text_Length         1.000000         NaN        -0.037314\n",
            "Word_Count               NaN         NaN              NaN\n",
            "Encoded_Emotion    -0.037314         NaN         1.000000\n"
          ]
        },
        {
          "output_type": "display_data",
          "data": {
            "text/plain": [
              "<Figure size 800x600 with 2 Axes>"
            ],
            "image/png": "[encoded data removed]"
          },
          "metadata": {}
        }
      ]
    },
    {
      "cell_type": "code",
      "source": [
        "import pandas as pd\n",
        "import seaborn as sns\n",
        "import matplotlib.pyplot as plt\n",
        "\n",
        "# Example sentiment data\n",
        "sentiment_scores = [-0.8, -0.3, 0.4, 0.7, 0.2, 1.0, -0.9, 0.3, -0.1, 0.6, 0.2, -0.6, 1.2, 0.5]\n",
        "\n",
        "# Create a DataFrame\n",
        "df = pd.DataFrame(sentiment_scores, columns=[\"Sentiment\"])\n",
        "\n",
        "# Create a box plot\n",
        "plt.figure(figsize=(8, 6))\n",
        "sns.boxplot(x=df[\"Sentiment\"])\n",
        "\n",
        "# Show plot\n",
        "plt.show()\n"
      ],
      "metadata": {
        "colab": {
          "base_uri": "https://localhost:8080/",
          "height": 542
        },
        "id": "9cF5RnJuMvIG",
        "outputId": "019eb857-8983-42a7-c2a6-254e73ab204b"
      },
      "execution_count": null,
      "outputs": [
        {
          "output_type": "display_data",
          "data": {
            "text/plain": [
              "<Figure size 800x600 with 1 Axes>"
            ],
            "image/png": "[encoded data removed]"
          },
          "metadata": {}
        }
      ]
    },
    {
      "cell_type": "code",
      "source": [
        "import numpy as np\n",
        "# Load CSV first\n",
        "df = pd.read_csv(\"/content/sentimentdataset.csv\")\n",
        "\n",
        "\n",
        "# Sample sentiment scores for the dataset (can be your sentiment data)\n",
        "\n",
        "\n",
        "# Step 1: Calculate the mean and standard deviation\n",
        "mean = np.mean(sentiment_scores)\n",
        "std_dev = np.std(sentiment_scores)\n",
        "\n",
        "# Step 2: Calculate the z-scores for each sentiment score\n",
        "z_scores = [(x - mean) / std_dev for x in sentiment_scores]\n",
        "\n",
        "# Output the z-scores\n",
        "print(\"Sentiment Scores: \", sentiment_scores)\n",
        "print(\"Z-scores: \", z_scores)"
      ],
      "metadata": {
        "colab": {
          "base_uri": "https://localhost:8080/"
        },
        "id": "PDMaBEomSwzy",
        "outputId": "820e6af7-33e5-4128-e70e-5ac9266486a0"
      },
      "execution_count": null,
      "outputs": [
        {
          "output_type": "stream",
          "name": "stdout",
          "text": [
            "Sentiment Scores:  [0.1, 0.2, -0.4, 0.6, -0.1]\n",
            "Z-scores:  [np.float64(0.06041220933301771), np.float64(0.3624732559981062), np.float64(-1.4498930239924248), np.float64(1.5707174426584603), np.float64(-0.5437098839971592)]\n"
          ]
        }
      ]
    }
  ],
  "metadata": {
    "colab": {
      "provenance": []
    },
    "kernelspec": {
      "display_name": "Python 3",
      "name": "python3"
    },
    "language_info": {
      "name": "python"
    }
  },
  "nbformat": 4,
  "nbformat_minor": 0
}